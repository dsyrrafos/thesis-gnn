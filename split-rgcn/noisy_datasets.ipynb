{
  "cells": [
    {
      "cell_type": "markdown",
      "metadata": {
        "id": "8kv_nlgrDC3a"
      },
      "source": [
        "# Create Noisy Datasets"
      ]
    },
    {
      "cell_type": "markdown",
      "metadata": {
        "id": "MWAK5TnXC-Ok"
      },
      "source": [
        "## Install libraries"
      ]
    },
    {
      "cell_type": "code",
      "execution_count": null,
      "metadata": {
        "colab": {
          "base_uri": "https://localhost:8080/"
        },
        "id": "j8ssoMjK8FFe",
        "outputId": "0c1c0e93-f1ce-47b0-e0e2-7cb12c418f82"
      },
      "outputs": [
        {
          "name": "stdout",
          "output_type": "stream",
          "text": [
            "Drive already mounted at /content/drive; to attempt to forcibly remount, call drive.mount(\"/content/drive\", force_remount=True).\n"
          ]
        }
      ],
      "source": [
        "import os, sys\n",
        "from google.colab import drive\n",
        "\n",
        "drive.mount('/content/drive')\n",
        "nb_path = '/content/notebooks'\n",
        "#os.symlink('/content/drive/My Drive/Colab Notebooks', nb_path)\n",
        "sys.path.insert(0,nb_path)"
      ]
    },
    {
      "cell_type": "code",
      "execution_count": null,
      "metadata": {
        "colab": {
          "base_uri": "https://localhost:8080/"
        },
        "id": "fWFpk1CWLjLN",
        "outputId": "8a5a331f-327f-4892-b26c-7d665b9ff06b"
      },
      "outputs": [
        {
          "name": "stdout",
          "output_type": "stream",
          "text": [
            "1.12.0+cu113\n"
          ]
        }
      ],
      "source": [
        "!python -c \"import torch; print(torch.__version__)\""
      ]
    },
    {
      "cell_type": "code",
      "execution_count": null,
      "metadata": {
        "colab": {
          "base_uri": "https://localhost:8080/"
        },
        "id": "s0yVpHgdLp_p",
        "outputId": "8307bda9-086a-4918-c8a3-0cc2e0ddc87f"
      },
      "outputs": [
        {
          "name": "stdout",
          "output_type": "stream",
          "text": [
            "11.3\n"
          ]
        }
      ],
      "source": [
        "!python -c \"import torch; print(torch.version.cuda)\""
      ]
    },
    {
      "cell_type": "code",
      "execution_count": null,
      "metadata": {
        "colab": {
          "base_uri": "https://localhost:8080/"
        },
        "id": "-jcMgrW3wKY1",
        "outputId": "0e3b887e-af2d-41e4-e97c-a79af4f71ccf"
      },
      "outputs": [
        {
          "name": "stdout",
          "output_type": "stream",
          "text": [
            "Looking in indexes: https://pypi.org/simple, https://us-python.pkg.dev/colab-wheels/public/simple/\n",
            "Looking in links: https://data.pyg.org/whl/torch-+.html\n",
            "Collecting torch-scatter\n",
            "  Downloading torch_scatter-2.0.9.tar.gz (21 kB)\n",
            "Building wheels for collected packages: torch-scatter\n",
            "  Building wheel for torch-scatter (setup.py) ... \u001b[?25l\u001b[?25hdone\n",
            "  Created wheel for torch-scatter: filename=torch_scatter-2.0.9-cp37-cp37m-linux_x86_64.whl size=274491 sha256=04ff89d0a11cf38384f539f78852f7ec64f5c6d69f5c7244a74157a952755590\n",
            "  Stored in directory: /root/.cache/pip/wheels/dd/57/a3/42ea193b77378ce634eb9454c9bc1e3163f3b482a35cdee4d1\n",
            "Successfully built torch-scatter\n",
            "Installing collected packages: torch-scatter\n",
            "Successfully installed torch-scatter-2.0.9\n",
            "Looking in indexes: https://pypi.org/simple, https://us-python.pkg.dev/colab-wheels/public/simple/\n",
            "Looking in links: https://data.pyg.org/whl/torch-+.html\n",
            "Collecting torch-sparse\n",
            "  Downloading torch_sparse-0.6.14.tar.gz (51 kB)\n",
            "\u001b[K     |████████████████████████████████| 51 kB 202 kB/s \n",
            "\u001b[?25hRequirement already satisfied: scipy in /usr/local/lib/python3.7/dist-packages (from torch-sparse) (1.7.3)\n",
            "Requirement already satisfied: numpy<1.23.0,>=1.16.5 in /usr/local/lib/python3.7/dist-packages (from scipy->torch-sparse) (1.21.6)\n",
            "Building wheels for collected packages: torch-sparse\n",
            "  Building wheel for torch-sparse (setup.py) ... \u001b[?25l\u001b[?25hdone\n",
            "  Created wheel for torch-sparse: filename=torch_sparse-0.6.14-cp37-cp37m-linux_x86_64.whl size=497879 sha256=5ee59c93569aba8b500620c6587922c60ca2a79cc72e2f0cd2768498317f8c4e\n",
            "  Stored in directory: /root/.cache/pip/wheels/3c/aa/62/db0259eae2abce84f1ee2cf1c531bba683aab4bf79054172f8\n",
            "Successfully built torch-sparse\n",
            "Installing collected packages: torch-sparse\n",
            "Successfully installed torch-sparse-0.6.14\n",
            "Looking in indexes: https://pypi.org/simple, https://us-python.pkg.dev/colab-wheels/public/simple/\n",
            "Collecting torch-geometric\n",
            "  Downloading torch_geometric-2.0.4.tar.gz (407 kB)\n",
            "\u001b[K     |████████████████████████████████| 407 kB 5.1 MB/s \n",
            "\u001b[?25hRequirement already satisfied: tqdm in /usr/local/lib/python3.7/dist-packages (from torch-geometric) (4.64.0)\n",
            "Requirement already satisfied: numpy in /usr/local/lib/python3.7/dist-packages (from torch-geometric) (1.21.6)\n",
            "Requirement already satisfied: scipy in /usr/local/lib/python3.7/dist-packages (from torch-geometric) (1.7.3)\n",
            "Requirement already satisfied: pandas in /usr/local/lib/python3.7/dist-packages (from torch-geometric) (1.3.5)\n",
            "Requirement already satisfied: jinja2 in /usr/local/lib/python3.7/dist-packages (from torch-geometric) (2.11.3)\n",
            "Requirement already satisfied: requests in /usr/local/lib/python3.7/dist-packages (from torch-geometric) (2.23.0)\n",
            "Requirement already satisfied: pyparsing in /usr/local/lib/python3.7/dist-packages (from torch-geometric) (3.0.9)\n",
            "Requirement already satisfied: scikit-learn in /usr/local/lib/python3.7/dist-packages (from torch-geometric) (1.0.2)\n",
            "Requirement already satisfied: MarkupSafe>=0.23 in /usr/local/lib/python3.7/dist-packages (from jinja2->torch-geometric) (2.0.1)\n",
            "Requirement already satisfied: pytz>=2017.3 in /usr/local/lib/python3.7/dist-packages (from pandas->torch-geometric) (2022.1)\n",
            "Requirement already satisfied: python-dateutil>=2.7.3 in /usr/local/lib/python3.7/dist-packages (from pandas->torch-geometric) (2.8.2)\n",
            "Requirement already satisfied: six>=1.5 in /usr/local/lib/python3.7/dist-packages (from python-dateutil>=2.7.3->pandas->torch-geometric) (1.15.0)\n",
            "Requirement already satisfied: idna<3,>=2.5 in /usr/local/lib/python3.7/dist-packages (from requests->torch-geometric) (2.10)\n",
            "Requirement already satisfied: certifi>=2017.4.17 in /usr/local/lib/python3.7/dist-packages (from requests->torch-geometric) (2022.6.15)\n",
            "Requirement already satisfied: chardet<4,>=3.0.2 in /usr/local/lib/python3.7/dist-packages (from requests->torch-geometric) (3.0.4)\n",
            "Requirement already satisfied: urllib3!=1.25.0,!=1.25.1,<1.26,>=1.21.1 in /usr/local/lib/python3.7/dist-packages (from requests->torch-geometric) (1.24.3)\n",
            "Requirement already satisfied: joblib>=0.11 in /usr/local/lib/python3.7/dist-packages (from scikit-learn->torch-geometric) (1.1.0)\n",
            "Requirement already satisfied: threadpoolctl>=2.0.0 in /usr/local/lib/python3.7/dist-packages (from scikit-learn->torch-geometric) (3.1.0)\n",
            "Building wheels for collected packages: torch-geometric\n",
            "  Building wheel for torch-geometric (setup.py) ... \u001b[?25l\u001b[?25hdone\n",
            "  Created wheel for torch-geometric: filename=torch_geometric-2.0.4-py3-none-any.whl size=616603 sha256=2399fce5a51c7b12f7fbf568c4b7779c3fe7fca7c5fbe74ea1265a501c1fa067\n",
            "  Stored in directory: /root/.cache/pip/wheels/18/a6/a4/ca18c3051fcead866fe7b85700ee2240d883562a1bc70ce421\n",
            "Successfully built torch-geometric\n",
            "Installing collected packages: torch-geometric\n",
            "Successfully installed torch-geometric-2.0.4\n"
          ]
        }
      ],
      "source": [
        "!pip install torch-scatter -f https://data.pyg.org/whl/torch-${TORCH}+${CUDA}.html\n",
        "!pip install torch-sparse -f https://data.pyg.org/whl/torch-${TORCH}+${CUDA}.html\n",
        "!pip install torch-geometric"
      ]
    },
    {
      "cell_type": "code",
      "execution_count": null,
      "metadata": {
        "colab": {
          "base_uri": "https://localhost:8080/",
          "height": 1000
        },
        "id": "MuQ95DbNLuZy",
        "outputId": "bde83ff0-54ee-44fc-fe40-9b7878508833"
      },
      "outputs": [
        {
          "name": "stdout",
          "output_type": "stream",
          "text": [
            "Looking in indexes: https://pypi.org/simple, https://us-python.pkg.dev/colab-wheels/public/simple/\n",
            "Looking in links: https://data.pyg.org/whl/torch-+.html\n",
            "Collecting torch-scatter\n",
            "  Downloading torch_scatter-2.0.9.tar.gz (21 kB)\n",
            "Building wheels for collected packages: torch-scatter\n",
            "  Building wheel for torch-scatter (setup.py) ... \u001b[?25l\u001b[?25hdone\n",
            "  Created wheel for torch-scatter: filename=torch_scatter-2.0.9-cp37-cp37m-linux_x86_64.whl size=274491 sha256=99a6ae8874937841844ae4a74ea8cf23e955d45f4b3c74ba3f8ba3c9e4158d10\n",
            "  Stored in directory: /root/.cache/pip/wheels/dd/57/a3/42ea193b77378ce634eb9454c9bc1e3163f3b482a35cdee4d1\n",
            "Successfully built torch-scatter\n",
            "Installing collected packages: torch-scatter\n",
            "Successfully installed torch-scatter-2.0.9\n",
            "Looking in indexes: https://pypi.org/simple, https://us-python.pkg.dev/colab-wheels/public/simple/\n",
            "Looking in links: https://data.pyg.org/whl/torch-+.html\n",
            "Collecting torch-sparse\n",
            "  Downloading torch_sparse-0.6.14.tar.gz (51 kB)\n",
            "\u001b[K     |████████████████████████████████| 51 kB 189 kB/s \n",
            "\u001b[?25hRequirement already satisfied: scipy in /usr/local/lib/python3.7/dist-packages (from torch-sparse) (1.7.3)\n",
            "Requirement already satisfied: numpy<1.23.0,>=1.16.5 in /usr/local/lib/python3.7/dist-packages (from scipy->torch-sparse) (1.21.6)\n",
            "Building wheels for collected packages: torch-sparse\n",
            "  Building wheel for torch-sparse (setup.py) ... \u001b[?25l\u001b[?25hdone\n",
            "  Created wheel for torch-sparse: filename=torch_sparse-0.6.14-cp37-cp37m-linux_x86_64.whl size=497879 sha256=0281945385c6aa309e67aba28feaea2e4067ef6bec750e5768ff06564237bc7d\n",
            "  Stored in directory: /root/.cache/pip/wheels/3c/aa/62/db0259eae2abce84f1ee2cf1c531bba683aab4bf79054172f8\n",
            "Successfully built torch-sparse\n",
            "Installing collected packages: torch-sparse\n",
            "Successfully installed torch-sparse-0.6.14\n",
            "Looking in indexes: https://pypi.org/simple, https://us-python.pkg.dev/colab-wheels/public/simple/\n",
            "Collecting torch-geometric\n",
            "  Downloading torch_geometric-2.0.4.tar.gz (407 kB)\n",
            "\u001b[K     |████████████████████████████████| 407 kB 4.2 MB/s \n",
            "\u001b[?25hCollecting tqdm\n",
            "  Downloading tqdm-4.64.0-py2.py3-none-any.whl (78 kB)\n",
            "\u001b[K     |████████████████████████████████| 78 kB 5.9 MB/s \n",
            "\u001b[?25hCollecting numpy\n",
            "  Downloading numpy-1.21.6-cp37-cp37m-manylinux_2_12_x86_64.manylinux2010_x86_64.whl (15.7 MB)\n",
            "\u001b[K     |████████████████████████████████| 15.7 MB 33.4 MB/s \n",
            "\u001b[?25hCollecting scipy\n",
            "  Downloading scipy-1.7.3-cp37-cp37m-manylinux_2_12_x86_64.manylinux2010_x86_64.whl (38.1 MB)\n",
            "\u001b[K     |████████████████████████████████| 38.1 MB 1.2 MB/s \n",
            "\u001b[?25hCollecting pandas\n",
            "  Downloading pandas-1.3.5-cp37-cp37m-manylinux_2_17_x86_64.manylinux2014_x86_64.whl (11.3 MB)\n",
            "\u001b[K     |████████████████████████████████| 11.3 MB 23.0 MB/s \n",
            "\u001b[?25hCollecting jinja2\n",
            "  Downloading Jinja2-3.1.2-py3-none-any.whl (133 kB)\n",
            "\u001b[K     |████████████████████████████████| 133 kB 71.6 MB/s \n",
            "\u001b[?25hCollecting requests\n",
            "  Downloading requests-2.28.1-py3-none-any.whl (62 kB)\n",
            "\u001b[K     |████████████████████████████████| 62 kB 48 kB/s \n",
            "\u001b[?25hCollecting pyparsing\n",
            "  Downloading pyparsing-3.0.9-py3-none-any.whl (98 kB)\n",
            "\u001b[K     |████████████████████████████████| 98 kB 7.1 MB/s \n",
            "\u001b[?25hCollecting scikit-learn\n",
            "  Downloading scikit_learn-1.0.2-cp37-cp37m-manylinux_2_17_x86_64.manylinux2014_x86_64.whl (24.8 MB)\n",
            "\u001b[K     |████████████████████████████████| 24.8 MB 1.3 MB/s \n",
            "\u001b[?25hCollecting MarkupSafe>=2.0\n",
            "  Downloading MarkupSafe-2.1.1-cp37-cp37m-manylinux_2_17_x86_64.manylinux2014_x86_64.whl (25 kB)\n",
            "Collecting pytz>=2017.3\n",
            "  Downloading pytz-2022.1-py2.py3-none-any.whl (503 kB)\n",
            "\u001b[K     |████████████████████████████████| 503 kB 46.9 MB/s \n",
            "\u001b[?25hCollecting python-dateutil>=2.7.3\n",
            "  Downloading python_dateutil-2.8.2-py2.py3-none-any.whl (247 kB)\n",
            "\u001b[K     |████████████████████████████████| 247 kB 57.3 MB/s \n",
            "\u001b[?25hCollecting six>=1.5\n",
            "  Downloading six-1.16.0-py2.py3-none-any.whl (11 kB)\n",
            "Collecting urllib3<1.27,>=1.21.1\n",
            "  Downloading urllib3-1.26.10-py2.py3-none-any.whl (139 kB)\n",
            "\u001b[K     |████████████████████████████████| 139 kB 59.0 MB/s \n",
            "\u001b[?25hCollecting certifi>=2017.4.17\n",
            "  Downloading certifi-2022.6.15-py3-none-any.whl (160 kB)\n",
            "\u001b[K     |████████████████████████████████| 160 kB 38.9 MB/s \n",
            "\u001b[?25hCollecting charset-normalizer<3,>=2\n",
            "  Downloading charset_normalizer-2.1.0-py3-none-any.whl (39 kB)\n",
            "Collecting idna<4,>=2.5\n",
            "  Downloading idna-3.3-py3-none-any.whl (61 kB)\n",
            "\u001b[K     |████████████████████████████████| 61 kB 7.9 MB/s \n",
            "\u001b[?25hCollecting joblib>=0.11\n",
            "  Downloading joblib-1.1.0-py2.py3-none-any.whl (306 kB)\n",
            "\u001b[K     |████████████████████████████████| 306 kB 56.4 MB/s \n",
            "\u001b[?25hCollecting threadpoolctl>=2.0.0\n",
            "  Downloading threadpoolctl-3.1.0-py3-none-any.whl (14 kB)\n",
            "Building wheels for collected packages: torch-geometric\n",
            "  Building wheel for torch-geometric (setup.py) ... \u001b[?25l\u001b[?25hdone\n",
            "  Created wheel for torch-geometric: filename=torch_geometric-2.0.4-py3-none-any.whl size=616603 sha256=a9d5f4a2f0e4b2a578c69e9883acaccc7351fdc277e090f26d7e3ff871bfe6ef\n",
            "  Stored in directory: /root/.cache/pip/wheels/18/a6/a4/ca18c3051fcead866fe7b85700ee2240d883562a1bc70ce421\n",
            "Successfully built torch-geometric\n",
            "Installing collected packages: six, numpy, urllib3, threadpoolctl, scipy, pytz, python-dateutil, MarkupSafe, joblib, idna, charset-normalizer, certifi, tqdm, scikit-learn, requests, pyparsing, pandas, jinja2, torch-geometric\n",
            "\u001b[31mERROR: pip's dependency resolver does not currently take into account all the packages that are installed. This behaviour is the source of the following dependency conflicts.\n",
            "google-colab 1.0.0 requires requests~=2.23.0, but you have requests 2.28.1 which is incompatible.\n",
            "flask 1.1.4 requires Jinja2<3.0,>=2.10.1, but you have jinja2 3.1.2 which is incompatible.\n",
            "datascience 0.10.6 requires folium==0.2.1, but you have folium 0.8.3 which is incompatible.\n",
            "albumentations 0.1.12 requires imgaug<0.2.7,>=0.2.5, but you have imgaug 0.2.9 which is incompatible.\u001b[0m\n",
            "Successfully installed MarkupSafe-2.1.1 certifi-2022.6.15 charset-normalizer-2.1.0 idna-3.3 jinja2-3.1.2 joblib-1.1.0 numpy-1.21.6 pandas-1.3.5 pyparsing-3.0.9 python-dateutil-2.8.2 pytz-2022.1 requests-2.28.1 scikit-learn-1.0.2 scipy-1.7.3 six-1.16.0 threadpoolctl-3.1.0 torch-geometric-2.0.4 tqdm-4.64.0 urllib3-1.26.10\n"
          ]
        },
        {
          "data": {
            "application/vnd.colab-display-data+json": {
              "pip_warning": {
                "packages": [
                  "dateutil",
                  "numpy"
                ]
              }
            }
          },
          "metadata": {},
          "output_type": "display_data"
        }
      ],
      "source": [
        "!pip install --target=$nb_path torch-scatter -f https://data.pyg.org/whl/torch-${TORCH}+${CUDA}.html\n",
        "!pip install --target=$nb_path torch-sparse -f https://data.pyg.org/whl/torch-${TORCH}+${CUDA}.html\n",
        "!pip install --target=$nb_path torch-geometric"
      ]
    },
    {
      "cell_type": "markdown",
      "metadata": {
        "id": "NEq8J2H83Mw9"
      },
      "source": [
        "## IMDB dataset"
      ]
    },
    {
      "cell_type": "markdown",
      "metadata": {
        "id": "S0YHkfDC3Onl"
      },
      "source": [
        "### Import data"
      ]
    },
    {
      "cell_type": "code",
      "execution_count": 1,
      "metadata": {
        "colab": {
          "base_uri": "https://localhost:8080/",
          "height": 339
        },
        "id": "wEaycp7gKwof",
        "outputId": "4ce3f17f-4198-4415-d998-6d295c450f32"
      },
      "outputs": [],
      "source": [
        "from torch_geometric.datasets import IMDB\n",
        "\n",
        "dataset = IMDB(root='./data/imdb')"
      ]
    },
    {
      "cell_type": "code",
      "execution_count": 2,
      "metadata": {
        "colab": {
          "base_uri": "https://localhost:8080/"
        },
        "id": "FH1X-fmnDPTc",
        "outputId": "055dd451-290e-4ecc-bcda-52b1f380691d"
      },
      "outputs": [
        {
          "name": "stdout",
          "output_type": "stream",
          "text": [
            "Dataset: IMDB()\n",
            "Number of graphs: 1\n",
            "HeteroData(\n",
            "  \u001b[1mmovie\u001b[0m={\n",
            "    x=[4278, 3066],\n",
            "    y=[4278],\n",
            "    train_mask=[4278],\n",
            "    val_mask=[4278],\n",
            "    test_mask=[4278]\n",
            "  },\n",
            "  \u001b[1mdirector\u001b[0m={ x=[2081, 3066] },\n",
            "  \u001b[1mactor\u001b[0m={ x=[5257, 3066] },\n",
            "  \u001b[1m(movie, to, director)\u001b[0m={ edge_index=[2, 4278] },\n",
            "  \u001b[1m(movie, to, actor)\u001b[0m={ edge_index=[2, 12828] },\n",
            "  \u001b[1m(director, to, movie)\u001b[0m={ edge_index=[2, 4278] },\n",
            "  \u001b[1m(actor, to, movie)\u001b[0m={ edge_index=[2, 12828] }\n",
            ")\n",
            "Number of classes: 3\n",
            "Classes: tensor([0, 1, 2])\n"
          ]
        }
      ],
      "source": [
        "print('Dataset:', dataset)\n",
        "\n",
        "print('Number of graphs:', len(dataset))\n",
        "\n",
        "data = dataset[0]\n",
        "print(data)\n",
        "\n",
        "num_classes = len(data['movie'].y.unique())\n",
        "print('Number of classes:', num_classes)\n",
        "print('Classes:', data['movie'].y.unique())"
      ]
    },
    {
      "cell_type": "markdown",
      "metadata": {
        "id": "lfmNwp9L3Kf-"
      },
      "source": [
        "### Movie"
      ]
    },
    {
      "cell_type": "code",
      "execution_count": 3,
      "metadata": {
        "colab": {
          "base_uri": "https://localhost:8080/"
        },
        "id": "GSr4VZ4cKyZx",
        "outputId": "66825e39-7035-479c-f2b3-a68971fbc2d9"
      },
      "outputs": [
        {
          "data": {
            "text/plain": [
              "tensor([0., 1., 2., 3., 4., 5.])"
            ]
          },
          "execution_count": 3,
          "metadata": {},
          "output_type": "execute_result"
        }
      ],
      "source": [
        "data['movie'].x.unique()"
      ]
    },
    {
      "cell_type": "code",
      "execution_count": 4,
      "metadata": {
        "colab": {
          "base_uri": "https://localhost:8080/"
        },
        "id": "btz4-XP1YTYU",
        "outputId": "fd02b45f-be97-4b48-8e46-45ef8b029055"
      },
      "outputs": [
        {
          "data": {
            "text/plain": [
              "torch.Size([6])"
            ]
          },
          "execution_count": 4,
          "metadata": {},
          "output_type": "execute_result"
        }
      ],
      "source": [
        "data['movie'].x.unique().size()"
      ]
    },
    {
      "cell_type": "code",
      "execution_count": 5,
      "metadata": {
        "colab": {
          "base_uri": "https://localhost:8080/"
        },
        "id": "l9b_apReWPmR",
        "outputId": "7a4de506-2538-4d16-9292-4419006e3f5c"
      },
      "outputs": [
        {
          "data": {
            "text/plain": [
              "array([[0., 0., 0., ..., 0., 0., 0.],\n",
              "       [0., 0., 0., ..., 0., 0., 0.],\n",
              "       [0., 0., 0., ..., 0., 0., 0.],\n",
              "       ...,\n",
              "       [0., 0., 0., ..., 0., 0., 0.],\n",
              "       [0., 0., 0., ..., 0., 0., 0.],\n",
              "       [0., 0., 0., ..., 0., 0., 0.]], dtype=float32)"
            ]
          },
          "execution_count": 5,
          "metadata": {},
          "output_type": "execute_result"
        }
      ],
      "source": [
        "arr = data['movie'].x.detach().numpy()\n",
        "arr"
      ]
    },
    {
      "cell_type": "code",
      "execution_count": 6,
      "metadata": {
        "colab": {
          "base_uri": "https://localhost:8080/"
        },
        "id": "qzwpCQgm1EhZ",
        "outputId": "50b0b8c8-f77c-4392-88f6-6933f8b15880"
      },
      "outputs": [
        {
          "data": {
            "text/plain": [
              "[0.0, 1.0, 2.0, 3.0, 4.0, 5.0, 6.0]"
            ]
          },
          "execution_count": 6,
          "metadata": {},
          "output_type": "execute_result"
        }
      ],
      "source": [
        "bins = data['movie'].x.unique().tolist()\n",
        "bins.append(bins[-1]+1)\n",
        "bins"
      ]
    },
    {
      "cell_type": "code",
      "execution_count": 7,
      "metadata": {
        "colab": {
          "base_uri": "https://localhost:8080/"
        },
        "id": "riJMRk1wYm-F",
        "outputId": "3a90ed8d-5bf3-4dbd-f59b-596815dec37e"
      },
      "outputs": [
        {
          "data": {
            "text/plain": [
              "(array([13089173,    25585,     1429,      134,       24,        3]),\n",
              " array([0., 1., 2., 3., 4., 5., 6.]))"
            ]
          },
          "execution_count": 7,
          "metadata": {},
          "output_type": "execute_result"
        }
      ],
      "source": [
        "import numpy as np\n",
        "\n",
        "hist_movie = np.histogram(arr, bins=bins)\n",
        "hist_movie"
      ]
    },
    {
      "cell_type": "code",
      "execution_count": 9,
      "metadata": {
        "colab": {
          "base_uri": "https://localhost:8080/",
          "height": 281
        },
        "id": "wgvyPeCkaBox",
        "outputId": "f7a061c0-1003-463f-b199-44561a20aa47"
      },
      "outputs": [
        {
          "data": {
            "image/png": "[encoded data removed]",
            "text/plain": [
              "<Figure size 432x288 with 1 Axes>"
            ]
          },
          "metadata": {
            "needs_background": "light"
          },
          "output_type": "display_data"
        }
      ],
      "source": [
        "import matplotlib.pyplot as plt\n",
        "\n",
        "_ = plt.bar(hist_movie[1][:-1], hist_movie[0], log=True)\n",
        "plt.title(\"Histogram actor\")\n",
        "plt.show()"
      ]
    },
    {
      "cell_type": "markdown",
      "metadata": {
        "id": "1GQQhtY93S7W"
      },
      "source": [
        "### Director"
      ]
    },
    {
      "cell_type": "code",
      "execution_count": 10,
      "metadata": {
        "colab": {
          "base_uri": "https://localhost:8080/"
        },
        "id": "Z1wwgMUtUwSZ",
        "outputId": "b2ae5c84-223e-4efd-f5eb-f54a7d0f17db"
      },
      "outputs": [
        {
          "data": {
            "text/plain": [
              "tensor([0.0000, 0.0455, 0.0556, 0.0625, 0.0714, 0.0769, 0.0833, 0.0909, 0.1000,\n",
              "        0.1111, 0.1250, 0.1364, 0.1429, 0.1538, 0.1667, 0.1818, 0.1875, 0.2000,\n",
              "        0.2143, 0.2222, 0.2308, 0.2500, 0.2727, 0.2857, 0.3000, 0.3333, 0.3750,\n",
              "        0.4000, 0.4167, 0.4286, 0.4444, 0.4545, 0.5000, 0.5714, 0.6000, 0.6250,\n",
              "        0.6667, 0.7143, 0.7500, 0.8000, 0.8571, 1.0000, 1.2500, 1.3333, 1.5000,\n",
              "        2.0000, 3.0000, 4.0000, 5.0000])"
            ]
          },
          "execution_count": 10,
          "metadata": {},
          "output_type": "execute_result"
        }
      ],
      "source": [
        "data['director'].x.unique()"
      ]
    },
    {
      "cell_type": "code",
      "execution_count": 11,
      "metadata": {
        "colab": {
          "base_uri": "https://localhost:8080/"
        },
        "id": "7WUaKnYi3n8J",
        "outputId": "199bc723-0218-45d4-de8d-5acc7000f6c3"
      },
      "outputs": [
        {
          "data": {
            "text/plain": [
              "array([[0., 0., 0., ..., 0., 0., 0.],\n",
              "       [0., 0., 0., ..., 0., 0., 0.],\n",
              "       [0., 0., 0., ..., 0., 0., 0.],\n",
              "       ...,\n",
              "       [0., 0., 0., ..., 0., 0., 0.],\n",
              "       [0., 0., 0., ..., 0., 0., 0.],\n",
              "       [0., 0., 0., ..., 0., 0., 0.]], dtype=float32)"
            ]
          },
          "execution_count": 11,
          "metadata": {},
          "output_type": "execute_result"
        }
      ],
      "source": [
        "arr = data['director'].x.detach().numpy()\n",
        "arr"
      ]
    },
    {
      "cell_type": "code",
      "execution_count": 12,
      "metadata": {
        "colab": {
          "base_uri": "https://localhost:8080/"
        },
        "id": "isG2U74q3s7E",
        "outputId": "a9ed4ce3-43d6-4907-e6e3-fc80e65b0bd2"
      },
      "outputs": [
        {
          "data": {
            "text/plain": [
              "[0.0,\n",
              " 0.04545454680919647,\n",
              " 0.0555555559694767,\n",
              " 0.0625,\n",
              " 0.0714285746216774,\n",
              " 0.07692307978868484,\n",
              " 0.0833333358168602,\n",
              " 0.09090909361839294,\n",
              " 0.10000000149011612,\n",
              " 0.1111111119389534,\n",
              " 0.125,\n",
              " 0.13636364042758942,\n",
              " 0.1428571492433548,\n",
              " 0.1538461595773697,\n",
              " 0.1666666716337204,\n",
              " 0.1818181872367859,\n",
              " 0.1875,\n",
              " 0.20000000298023224,\n",
              " 0.2142857164144516,\n",
              " 0.2222222238779068,\n",
              " 0.23076923191547394,\n",
              " 0.25,\n",
              " 0.27272728085517883,\n",
              " 0.2857142984867096,\n",
              " 0.30000001192092896,\n",
              " 0.3333333432674408,\n",
              " 0.375,\n",
              " 0.4000000059604645,\n",
              " 0.4166666567325592,\n",
              " 0.4285714328289032,\n",
              " 0.4444444477558136,\n",
              " 0.4545454680919647,\n",
              " 0.5,\n",
              " 0.5714285969734192,\n",
              " 0.6000000238418579,\n",
              " 0.625,\n",
              " 0.6666666865348816,\n",
              " 0.7142857313156128,\n",
              " 0.75,\n",
              " 0.800000011920929,\n",
              " 0.8571428656578064,\n",
              " 1.0,\n",
              " 1.25,\n",
              " 1.3333333730697632,\n",
              " 1.5,\n",
              " 2.0,\n",
              " 3.0,\n",
              " 4.0,\n",
              " 5.0,\n",
              " 6.0]"
            ]
          },
          "execution_count": 12,
          "metadata": {},
          "output_type": "execute_result"
        }
      ],
      "source": [
        "bins = data['director'].x.unique().tolist()\n",
        "bins.append(bins[-1]+1)\n",
        "bins"
      ]
    },
    {
      "cell_type": "code",
      "execution_count": 13,
      "metadata": {
        "colab": {
          "base_uri": "https://localhost:8080/"
        },
        "id": "0Bx6kfei33Dp",
        "outputId": "5ca6355c-2203-4127-e48a-a1b94ad46658"
      },
      "outputs": [
        {
          "data": {
            "text/plain": [
              "(array([6354562,     227,      88,     161,     137,     174,     362,\n",
              "            180,     474,     403,    1069,      13,     957,      38,\n",
              "           1244,      21,       5,    1864,       5,      75,       5,\n",
              "           2602,       7,     129,      16,    2698,      23,     184,\n",
              "              2,      22,       6,       2,    4101,       5,      23,\n",
              "              2,     323,       3,      31,       9,       1,    7541,\n",
              "              2,      11,      25,     453,      46,      13,       2]),\n",
              " array([0.        , 0.04545455, 0.05555556, 0.0625    , 0.07142857,\n",
              "        0.07692308, 0.08333334, 0.09090909, 0.1       , 0.11111111,\n",
              "        0.125     , 0.13636364, 0.14285715, 0.15384616, 0.16666667,\n",
              "        0.18181819, 0.1875    , 0.2       , 0.21428572, 0.22222222,\n",
              "        0.23076923, 0.25      , 0.27272728, 0.2857143 , 0.30000001,\n",
              "        0.33333334, 0.375     , 0.40000001, 0.41666666, 0.42857143,\n",
              "        0.44444445, 0.45454547, 0.5       , 0.5714286 , 0.60000002,\n",
              "        0.625     , 0.66666669, 0.71428573, 0.75      , 0.80000001,\n",
              "        0.85714287, 1.        , 1.25      , 1.33333337, 1.5       ,\n",
              "        2.        , 3.        , 4.        , 5.        , 6.        ]))"
            ]
          },
          "execution_count": 13,
          "metadata": {},
          "output_type": "execute_result"
        }
      ],
      "source": [
        "import numpy as np\n",
        "\n",
        "hist = np.histogram(arr, bins=bins)\n",
        "hist"
      ]
    },
    {
      "cell_type": "code",
      "execution_count": 14,
      "metadata": {
        "colab": {
          "base_uri": "https://localhost:8080/",
          "height": 281
        },
        "id": "thRY0OqI37DW",
        "outputId": "e7014108-9ebb-4d1c-8e06-8ac6fb38e223"
      },
      "outputs": [
        {
          "data": {
            "image/png": "[encoded data removed]",
            "text/plain": [
              "<Figure size 432x288 with 1 Axes>"
            ]
          },
          "metadata": {
            "needs_background": "light"
          },
          "output_type": "display_data"
        }
      ],
      "source": [
        "import matplotlib.pyplot as plt\n",
        "\n",
        "_ = plt.bar(hist[1][:-1], hist[0], log=True)\n",
        "plt.title(\"Histogram actor\")\n",
        "plt.show()"
      ]
    },
    {
      "cell_type": "markdown",
      "metadata": {
        "id": "9Q-xXvg73ZBg"
      },
      "source": [
        "### Actor"
      ]
    },
    {
      "cell_type": "code",
      "execution_count": 15,
      "metadata": {
        "colab": {
          "base_uri": "https://localhost:8080/"
        },
        "id": "c07uQhrBU_RG",
        "outputId": "e57239cc-63e9-4b89-dce5-2a9e3b6b3e93"
      },
      "outputs": [
        {
          "data": {
            "text/plain": [
              "tensor([0.0000, 0.0192, 0.0222, 0.0250, 0.0286, 0.0294, 0.0312, 0.0323, 0.0333,\n",
              "        0.0345, 0.0357, 0.0370, 0.0385, 0.0400, 0.0417, 0.0435, 0.0444, 0.0455,\n",
              "        0.0476, 0.0500, 0.0526, 0.0556, 0.0571, 0.0577, 0.0588, 0.0625, 0.0645,\n",
              "        0.0667, 0.0690, 0.0714, 0.0741, 0.0750, 0.0769, 0.0800, 0.0833, 0.0857,\n",
              "        0.0870, 0.0882, 0.0889, 0.0909, 0.0938, 0.0952, 0.0962, 0.0968, 0.1000,\n",
              "        0.1034, 0.1053, 0.1071, 0.1111, 0.1143, 0.1154, 0.1176, 0.1200, 0.1250,\n",
              "        0.1290, 0.1304, 0.1333, 0.1364, 0.1379, 0.1429, 0.1471, 0.1481, 0.1500,\n",
              "        0.1538, 0.1562, 0.1579, 0.1600, 0.1667, 0.1739, 0.1765, 0.1818, 0.1875,\n",
              "        0.1905, 0.1923, 0.1935, 0.2000, 0.2059, 0.2105, 0.2143, 0.2174, 0.2222,\n",
              "        0.2308, 0.2353, 0.2381, 0.2500, 0.2609, 0.2632, 0.2667, 0.2727, 0.2778,\n",
              "        0.2800, 0.2857, 0.3000, 0.3077, 0.3125, 0.3182, 0.3333, 0.3571, 0.3636,\n",
              "        0.3684, 0.3750, 0.4000, 0.4286, 0.4444, 0.4545, 0.5000, 0.5556, 0.5714,\n",
              "        0.6000, 0.6250, 0.6667, 0.7143, 0.7500, 0.8000, 0.8333, 1.0000, 1.3333,\n",
              "        1.5000, 1.6667, 2.0000, 2.5000, 3.0000, 4.0000, 5.0000])"
            ]
          },
          "execution_count": 15,
          "metadata": {},
          "output_type": "execute_result"
        }
      ],
      "source": [
        "data['actor'].x.unique()"
      ]
    },
    {
      "cell_type": "code",
      "execution_count": 16,
      "metadata": {
        "colab": {
          "base_uri": "https://localhost:8080/"
        },
        "id": "AvF6CJlaWOtn",
        "outputId": "cf60436a-cb62-4e47-f99f-46fe5af6606d"
      },
      "outputs": [
        {
          "data": {
            "text/plain": [
              "array([[0., 0., 0., ..., 0., 0., 0.],\n",
              "       [0., 0., 0., ..., 0., 0., 0.],\n",
              "       [0., 0., 0., ..., 0., 0., 0.],\n",
              "       ...,\n",
              "       [0., 0., 0., ..., 0., 0., 0.],\n",
              "       [0., 0., 0., ..., 0., 0., 0.],\n",
              "       [0., 0., 0., ..., 0., 0., 0.]], dtype=float32)"
            ]
          },
          "execution_count": 16,
          "metadata": {},
          "output_type": "execute_result"
        }
      ],
      "source": [
        "arr = data['actor'].x.detach().numpy()\n",
        "arr"
      ]
    },
    {
      "cell_type": "code",
      "execution_count": 17,
      "metadata": {
        "colab": {
          "base_uri": "https://localhost:8080/"
        },
        "id": "N3xmqM_pVFrt",
        "outputId": "9f051a7d-aed5-4725-d8d3-dd35f91a9632"
      },
      "outputs": [
        {
          "data": {
            "text/plain": [
              "[0.0,\n",
              " 0.04545454680919647,\n",
              " 0.0555555559694767,\n",
              " 0.0625,\n",
              " 0.0714285746216774,\n",
              " 0.07692307978868484,\n",
              " 0.0833333358168602,\n",
              " 0.09090909361839294,\n",
              " 0.10000000149011612,\n",
              " 0.1111111119389534,\n",
              " 0.125,\n",
              " 0.13636364042758942,\n",
              " 0.1428571492433548,\n",
              " 0.1538461595773697,\n",
              " 0.1666666716337204,\n",
              " 0.1818181872367859,\n",
              " 0.1875,\n",
              " 0.20000000298023224,\n",
              " 0.2142857164144516,\n",
              " 0.2222222238779068,\n",
              " 0.23076923191547394,\n",
              " 0.25,\n",
              " 0.27272728085517883,\n",
              " 0.2857142984867096,\n",
              " 0.30000001192092896,\n",
              " 0.3333333432674408,\n",
              " 0.375,\n",
              " 0.4000000059604645,\n",
              " 0.4166666567325592,\n",
              " 0.4285714328289032,\n",
              " 0.4444444477558136,\n",
              " 0.4545454680919647,\n",
              " 0.5,\n",
              " 0.5714285969734192,\n",
              " 0.6000000238418579,\n",
              " 0.625,\n",
              " 0.6666666865348816,\n",
              " 0.7142857313156128,\n",
              " 0.75,\n",
              " 0.800000011920929,\n",
              " 0.8571428656578064,\n",
              " 1.0,\n",
              " 1.25,\n",
              " 1.3333333730697632,\n",
              " 1.5,\n",
              " 2.0,\n",
              " 3.0,\n",
              " 4.0,\n",
              " 5.0,\n",
              " 6.0]"
            ]
          },
          "execution_count": 17,
          "metadata": {},
          "output_type": "execute_result"
        }
      ],
      "source": [
        "bins = data['director'].x.unique().tolist()\n",
        "bins.append(bins[-1]+1)\n",
        "bins"
      ]
    },
    {
      "cell_type": "code",
      "execution_count": 18,
      "metadata": {
        "colab": {
          "base_uri": "https://localhost:8080/"
        },
        "id": "rUD7qhEm4SL0",
        "outputId": "7a33144c-4ff8-4626-8ae8-00216eaa2625"
      },
      "outputs": [
        {
          "data": {
            "text/plain": [
              "(array([16046477,     2088,      964,     1407,     1075,      940,\n",
              "            1180,     1228,     2093,     2230,     2780,       14,\n",
              "            3100,      175,     3862,      149,       20,     4499,\n",
              "              20,      280,       35,     5379,       23,      332,\n",
              "              38,     6546,       37,      439,        0,       52,\n",
              "               8,        1,     9373,        5,       58,        1,\n",
              "             614,        5,       77,       14,        0,    18991,\n",
              "               0,       18,       67,     1128,      114,       22,\n",
              "               4]),\n",
              " array([0.        , 0.04545455, 0.05555556, 0.0625    , 0.07142857,\n",
              "        0.07692308, 0.08333334, 0.09090909, 0.1       , 0.11111111,\n",
              "        0.125     , 0.13636364, 0.14285715, 0.15384616, 0.16666667,\n",
              "        0.18181819, 0.1875    , 0.2       , 0.21428572, 0.22222222,\n",
              "        0.23076923, 0.25      , 0.27272728, 0.2857143 , 0.30000001,\n",
              "        0.33333334, 0.375     , 0.40000001, 0.41666666, 0.42857143,\n",
              "        0.44444445, 0.45454547, 0.5       , 0.5714286 , 0.60000002,\n",
              "        0.625     , 0.66666669, 0.71428573, 0.75      , 0.80000001,\n",
              "        0.85714287, 1.        , 1.25      , 1.33333337, 1.5       ,\n",
              "        2.        , 3.        , 4.        , 5.        , 6.        ]))"
            ]
          },
          "execution_count": 18,
          "metadata": {},
          "output_type": "execute_result"
        }
      ],
      "source": [
        "import numpy as np\n",
        "\n",
        "hist = np.histogram(arr, bins=bins)\n",
        "hist"
      ]
    },
    {
      "cell_type": "code",
      "execution_count": 19,
      "metadata": {
        "colab": {
          "base_uri": "https://localhost:8080/",
          "height": 281
        },
        "id": "Lmonu1l44UEA",
        "outputId": "8fac3694-d63c-47a7-c359-342316ba7591"
      },
      "outputs": [
        {
          "data": {
            "image/png": "[encoded data removed]",
            "text/plain": [
              "<Figure size 432x288 with 1 Axes>"
            ]
          },
          "metadata": {
            "needs_background": "light"
          },
          "output_type": "display_data"
        }
      ],
      "source": [
        "import matplotlib.pyplot as plt\n",
        "\n",
        "_ = plt.bar(hist[1][:-1], hist[0], log=True)\n",
        "plt.title(\"Histogram actor\")\n",
        "plt.show()"
      ]
    },
    {
      "cell_type": "markdown",
      "metadata": {
        "id": "AFdZ0PMO4Y-B"
      },
      "source": [
        "### Create dummy entities"
      ]
    },
    {
      "cell_type": "markdown",
      "metadata": {
        "id": "OGO4aEwY4d3V"
      },
      "source": [
        "According to the histograms, the distribution of the values of the initial embeddings of each entity are very similar. Thats why we are going to use the distribution of the `movie` entity as baseline to generate embeddings for 2 dummy entities."
      ]
    },
    {
      "cell_type": "code",
      "execution_count": 20,
      "metadata": {
        "colab": {
          "base_uri": "https://localhost:8080/"
        },
        "id": "57LDkyiV8Q0r",
        "outputId": "afeed5d0-57e0-4216-f2c7-153d1a2a804b"
      },
      "outputs": [
        {
          "data": {
            "text/plain": [
              "(array([13089173,    25585,     1429,      134,       24,        3]),\n",
              " array([0., 1., 2., 3., 4., 5., 6.]))"
            ]
          },
          "execution_count": 20,
          "metadata": {},
          "output_type": "execute_result"
        }
      ],
      "source": [
        "hist_movie"
      ]
    },
    {
      "cell_type": "code",
      "execution_count": 21,
      "metadata": {
        "colab": {
          "base_uri": "https://localhost:8080/"
        },
        "id": "6AKrJVLt4WRc",
        "outputId": "0eadc5a2-ee20-4cf8-bc15-a79ee57c34e1"
      },
      "outputs": [
        {
          "data": {
            "text/plain": [
              "array([9.97928158e-01, 1.95061918e-03, 1.08948009e-04, 1.02162584e-05,\n",
              "       1.82977762e-06, 2.28722202e-07])"
            ]
          },
          "execution_count": 21,
          "metadata": {},
          "output_type": "execute_result"
        }
      ],
      "source": [
        "weights = hist_movie[0]/np.sum(hist_movie[0])\n",
        "weights"
      ]
    },
    {
      "cell_type": "code",
      "execution_count": 22,
      "metadata": {
        "colab": {
          "base_uri": "https://localhost:8080/"
        },
        "id": "0WDrPiEZDgA7",
        "outputId": "e8269b94-c11b-4033-e49b-d9d4fd43974e"
      },
      "outputs": [
        {
          "data": {
            "text/plain": [
              "torch.Size([4278, 3066])"
            ]
          },
          "execution_count": 22,
          "metadata": {},
          "output_type": "execute_result"
        }
      ],
      "source": [
        "data['movie'].x.size()"
      ]
    },
    {
      "cell_type": "code",
      "execution_count": 23,
      "metadata": {
        "colab": {
          "base_uri": "https://localhost:8080/"
        },
        "id": "bFi1DoUfDoDw",
        "outputId": "9fff641d-71dc-4c18-a1bf-f9e606da4d5c"
      },
      "outputs": [
        {
          "data": {
            "text/plain": [
              "torch.Size([2081, 3066])"
            ]
          },
          "execution_count": 23,
          "metadata": {},
          "output_type": "execute_result"
        }
      ],
      "source": [
        "data['director'].x.size()"
      ]
    },
    {
      "cell_type": "code",
      "execution_count": 24,
      "metadata": {
        "colab": {
          "base_uri": "https://localhost:8080/"
        },
        "id": "ZOOWKHfZDo6t",
        "outputId": "818a04ce-a43e-4d67-ce5a-7649be00493c"
      },
      "outputs": [
        {
          "data": {
            "text/plain": [
              "torch.Size([5257, 3066])"
            ]
          },
          "execution_count": 24,
          "metadata": {},
          "output_type": "execute_result"
        }
      ],
      "source": [
        "data['actor'].x.size()"
      ]
    },
    {
      "cell_type": "code",
      "execution_count": 25,
      "metadata": {
        "id": "W7MUUjUQDwd-"
      },
      "outputs": [],
      "source": [
        "emd_size = 3066\n",
        "ent_1_len = 3000\n",
        "ent_2_len = 2000"
      ]
    },
    {
      "cell_type": "code",
      "execution_count": 26,
      "metadata": {
        "colab": {
          "background_save": true
        },
        "id": "_O795A_DEP64"
      },
      "outputs": [],
      "source": [
        "ent_1 = [[np.random.choice(np.arange(6), p=weights) for i in range(emd_size)] for j in range(ent_1_len)]"
      ]
    },
    {
      "cell_type": "code",
      "execution_count": 27,
      "metadata": {
        "colab": {
          "background_save": true
        },
        "id": "N4LnrymFExws"
      },
      "outputs": [],
      "source": [
        "ent_2 = [[np.random.choice(np.arange(6), p=weights) for i in range(emd_size)] for j in range(ent_2_len)]"
      ]
    },
    {
      "cell_type": "markdown",
      "metadata": {
        "id": "5Kqf73TaKG91"
      },
      "source": [
        "#### Dummy Entity 1"
      ]
    },
    {
      "cell_type": "code",
      "execution_count": 28,
      "metadata": {
        "colab": {
          "background_save": true
        },
        "id": "akHsmuicHfGP",
        "outputId": "7c7a4af9-c0e0-4d3c-feda-4a45712fcb28"
      },
      "outputs": [
        {
          "data": {
            "text/plain": [
              "array([[0, 0, 0, ..., 0, 0, 0],\n",
              "       [0, 0, 0, ..., 0, 0, 0],\n",
              "       [0, 0, 0, ..., 0, 0, 0],\n",
              "       ...,\n",
              "       [0, 0, 0, ..., 0, 0, 0],\n",
              "       [0, 0, 0, ..., 0, 0, 0],\n",
              "       [0, 0, 0, ..., 0, 0, 0]])"
            ]
          },
          "execution_count": 28,
          "metadata": {},
          "output_type": "execute_result"
        }
      ],
      "source": [
        "ent_1 = np.array(ent_1)\n",
        "ent_1"
      ]
    },
    {
      "cell_type": "code",
      "execution_count": 29,
      "metadata": {
        "colab": {
          "background_save": true
        },
        "id": "CQ_9UyCKI2s8",
        "outputId": "563bd5cc-9b26-4269-c9a6-888ad34c6b43"
      },
      "outputs": [
        {
          "data": {
            "text/plain": [
              "[0.0, 1.0, 2.0, 3.0, 4.0, 5.0, 6.0]"
            ]
          },
          "execution_count": 29,
          "metadata": {},
          "output_type": "execute_result"
        }
      ],
      "source": [
        "bins = data['movie'].x.unique().tolist()\n",
        "bins.append(bins[-1]+1)\n",
        "bins"
      ]
    },
    {
      "cell_type": "code",
      "execution_count": 30,
      "metadata": {
        "colab": {
          "background_save": true
        },
        "id": "H3_7IWhZHjqT",
        "outputId": "d9a6a4a0-54f7-4cfc-88b1-c3ca7de6e525"
      },
      "outputs": [
        {
          "data": {
            "text/plain": [
              "(array([9179020,   17898,     961,     103,      17,       1]),\n",
              " array([0., 1., 2., 3., 4., 5., 6.]))"
            ]
          },
          "execution_count": 30,
          "metadata": {},
          "output_type": "execute_result"
        }
      ],
      "source": [
        "hist = np.histogram(ent_1, bins=bins)\n",
        "hist"
      ]
    },
    {
      "cell_type": "code",
      "execution_count": 31,
      "metadata": {
        "colab": {
          "background_save": true
        },
        "id": "_0uQsG-BJ-q2",
        "outputId": "dbd44c26-cf6a-4d30-d2c5-852028d95b43"
      },
      "outputs": [
        {
          "data": {
            "image/png": "[encoded data removed]",
            "text/plain": [
              "<Figure size 432x288 with 1 Axes>"
            ]
          },
          "metadata": {
            "needs_background": "light"
          },
          "output_type": "display_data"
        }
      ],
      "source": [
        "import matplotlib.pyplot as plt\n",
        "\n",
        "_ = plt.bar(hist[1][:-1], hist[0], log=True)\n",
        "plt.title(\"Histogram Ent1\")\n",
        "plt.show()"
      ]
    },
    {
      "cell_type": "markdown",
      "metadata": {
        "id": "1NNKofVLKLRO"
      },
      "source": [
        "#### Dummy Entity 2"
      ]
    },
    {
      "cell_type": "code",
      "execution_count": 32,
      "metadata": {
        "colab": {
          "background_save": true
        },
        "id": "zJ58Z_Fk8b1N",
        "outputId": "cad1be7d-3f39-496f-ab37-5c855e2d3683"
      },
      "outputs": [
        {
          "data": {
            "text/plain": [
              "array([[0, 0, 0, ..., 0, 0, 0],\n",
              "       [0, 0, 0, ..., 0, 0, 0],\n",
              "       [0, 0, 0, ..., 0, 0, 0],\n",
              "       ...,\n",
              "       [0, 0, 0, ..., 0, 0, 0],\n",
              "       [0, 0, 0, ..., 0, 0, 0],\n",
              "       [0, 0, 0, ..., 0, 0, 0]])"
            ]
          },
          "execution_count": 32,
          "metadata": {},
          "output_type": "execute_result"
        }
      ],
      "source": [
        "ent_2 = np.array(ent_2)\n",
        "ent_2"
      ]
    },
    {
      "cell_type": "code",
      "execution_count": 33,
      "metadata": {
        "colab": {
          "background_save": true
        },
        "id": "3dS5kh098kEo",
        "outputId": "a1d0f575-75ab-4d00-c52c-7aa2656cf402"
      },
      "outputs": [
        {
          "data": {
            "text/plain": [
              "(array([6119133,   12098,     688,      70,       9,       2]),\n",
              " array([0., 1., 2., 3., 4., 5., 6.]))"
            ]
          },
          "execution_count": 33,
          "metadata": {},
          "output_type": "execute_result"
        }
      ],
      "source": [
        "hist = np.histogram(ent_2, bins=bins)\n",
        "hist"
      ]
    },
    {
      "cell_type": "code",
      "execution_count": 34,
      "metadata": {
        "colab": {
          "background_save": true
        },
        "id": "Tgm8jdnxKV2A",
        "outputId": "c007d698-5cdc-4f46-e0e5-1d73a0616ad7"
      },
      "outputs": [
        {
          "data": {
            "image/png": "[encoded data removed]",
            "text/plain": [
              "<Figure size 432x288 with 1 Axes>"
            ]
          },
          "metadata": {
            "needs_background": "light"
          },
          "output_type": "display_data"
        }
      ],
      "source": [
        "import matplotlib.pyplot as plt\n",
        "\n",
        "_ = plt.bar(hist[1][:-1], hist[0], log=True)\n",
        "plt.title(\"Histogram Ent2\")\n",
        "plt.show()"
      ]
    },
    {
      "cell_type": "markdown",
      "metadata": {
        "id": "lFjvcRhRKedW"
      },
      "source": [
        "#### Create tensors for dummy entities"
      ]
    },
    {
      "cell_type": "code",
      "execution_count": 35,
      "metadata": {
        "colab": {
          "background_save": true
        },
        "id": "O21zWopNK9-u",
        "outputId": "cd848c8b-aed8-4584-abee-2077db7db409"
      },
      "outputs": [
        {
          "name": "stdout",
          "output_type": "stream",
          "text": [
            "torch.Size([3000, 3066])\n",
            "torch.Size([2000, 3066])\n"
          ]
        }
      ],
      "source": [
        "import torch\n",
        "\n",
        "ent_1_tensor = torch.from_numpy(ent_1)\n",
        "ent_2_tensor = torch.from_numpy(ent_2)\n",
        "\n",
        "print(ent_1_tensor.size())\n",
        "print(ent_2_tensor.size())"
      ]
    },
    {
      "cell_type": "markdown",
      "metadata": {
        "id": "0av6O0W3KofC"
      },
      "source": [
        "### Create dummy relations"
      ]
    },
    {
      "cell_type": "code",
      "execution_count": 36,
      "metadata": {
        "colab": {
          "background_save": true
        },
        "id": "F533Ia1uK-le",
        "outputId": "6a8e0c23-6c27-4965-e0fc-b851c6481a4e"
      },
      "outputs": [
        {
          "data": {
            "text/plain": [
              "HeteroData(\n",
              "  \u001b[1mmovie\u001b[0m={\n",
              "    x=[4278, 3066],\n",
              "    y=[4278],\n",
              "    train_mask=[4278],\n",
              "    val_mask=[4278],\n",
              "    test_mask=[4278]\n",
              "  },\n",
              "  \u001b[1mdirector\u001b[0m={ x=[2081, 3066] },\n",
              "  \u001b[1mactor\u001b[0m={ x=[5257, 3066] },\n",
              "  \u001b[1m(movie, to, director)\u001b[0m={ edge_index=[2, 4278] },\n",
              "  \u001b[1m(movie, to, actor)\u001b[0m={ edge_index=[2, 12828] },\n",
              "  \u001b[1m(director, to, movie)\u001b[0m={ edge_index=[2, 4278] },\n",
              "  \u001b[1m(actor, to, movie)\u001b[0m={ edge_index=[2, 12828] }\n",
              ")"
            ]
          },
          "execution_count": 36,
          "metadata": {},
          "output_type": "execute_result"
        }
      ],
      "source": [
        "data"
      ]
    },
    {
      "cell_type": "markdown",
      "metadata": {
        "id": "5sAh9mE2oVgu"
      },
      "source": [
        "We have 2 relations with 4278 and 12828 edges accordingly. We are going to use similar number of edges for the 2 dummy relations we are about to create, lets say 4278 and 8000 edges for (ent1, movie) and (ent2,movie)."
      ]
    },
    {
      "cell_type": "markdown",
      "metadata": {},
      "source": [
        "#### 1st relation (4278 edges)"
      ]
    },
    {
      "cell_type": "code",
      "execution_count": 37,
      "metadata": {
        "colab": {
          "background_save": true
        },
        "id": "8tzhJ-mhutRJ",
        "outputId": "2d57fafc-bf80-42bf-f9bd-c089494c53a4"
      },
      "outputs": [
        {
          "data": {
            "text/plain": [
              "tensor([[   0,    1,    2,  ..., 4275, 4276, 4277],\n",
              "        [ 789,  680, 1757,  ..., 1781,  166,  399]])"
            ]
          },
          "execution_count": 37,
          "metadata": {},
          "output_type": "execute_result"
        }
      ],
      "source": [
        "data[('movie', 'to', 'director')].edge_index"
      ]
    },
    {
      "cell_type": "code",
      "execution_count": 38,
      "metadata": {
        "colab": {
          "background_save": true
        },
        "id": "n46_FYJLY8UH",
        "outputId": "e03889bd-443b-47e7-8752-18dc944815a5"
      },
      "outputs": [
        {
          "data": {
            "text/plain": [
              "tensor([[   0,    1,    2,  ..., 2078, 2079, 2080],\n",
              "        [3972, 3751, 3090,  ..., 3246, 3652, 4143]])"
            ]
          },
          "execution_count": 38,
          "metadata": {},
          "output_type": "execute_result"
        }
      ],
      "source": [
        "data[('director', 'to', 'movie')].edge_index"
      ]
    },
    {
      "cell_type": "code",
      "execution_count": 39,
      "metadata": {
        "colab": {
          "background_save": true
        },
        "id": "iyCRmGoBZHzu",
        "outputId": "c04e7a12-0a27-482d-d33f-e57203155510"
      },
      "outputs": [
        {
          "data": {
            "text/plain": [
              "torch.Size([2, 4278])"
            ]
          },
          "execution_count": 39,
          "metadata": {},
          "output_type": "execute_result"
        }
      ],
      "source": [
        "data[('movie', 'to', 'director')].edge_index.size()"
      ]
    },
    {
      "cell_type": "code",
      "execution_count": 40,
      "metadata": {
        "colab": {
          "background_save": true
        },
        "id": "O8cVTNLHZJu2",
        "outputId": "5df9bd58-ff97-47f4-d3e4-1da631d7cdfb"
      },
      "outputs": [
        {
          "data": {
            "text/plain": [
              "torch.Size([2, 4278])"
            ]
          },
          "execution_count": 40,
          "metadata": {},
          "output_type": "execute_result"
        }
      ],
      "source": [
        "data[('director', 'to', 'movie')].edge_index.size()"
      ]
    },
    {
      "cell_type": "code",
      "execution_count": 41,
      "metadata": {
        "colab": {
          "background_save": true
        },
        "id": "yHAegx57TAd9",
        "outputId": "97c5ee11-4429-498a-dffa-713485447964"
      },
      "outputs": [
        {
          "data": {
            "text/plain": [
              "4278"
            ]
          },
          "execution_count": 41,
          "metadata": {},
          "output_type": "execute_result"
        }
      ],
      "source": [
        "num_samples = data['movie'].x.size()[0]\n",
        "num_samples"
      ]
    },
    {
      "cell_type": "code",
      "execution_count": 48,
      "metadata": {
        "colab": {
          "background_save": true
        },
        "id": "SXYuQvqRp2tl"
      },
      "outputs": [],
      "source": [
        "movie_ent_1_1 = [i for i in range (num_samples)]"
      ]
    },
    {
      "cell_type": "code",
      "execution_count": 49,
      "metadata": {
        "colab": {
          "background_save": true
        },
        "id": "PJ1rkcdHvYrG"
      },
      "outputs": [],
      "source": [
        "import random\n",
        "\n",
        "movie_ent_1_2 = [random.randint(0, ent_1_len-1) for i in range (num_samples)]"
      ]
    },
    {
      "cell_type": "code",
      "execution_count": 50,
      "metadata": {
        "colab": {
          "background_save": true
        },
        "id": "yyiA2S7zYzNm"
      },
      "outputs": [],
      "source": [
        "movie_to_ent1 = [movie_ent_1_1, movie_ent_1_2]"
      ]
    },
    {
      "cell_type": "markdown",
      "metadata": {},
      "source": [
        "Create reverse relation by sorting according to `ent_1_movie_2`"
      ]
    },
    {
      "cell_type": "code",
      "execution_count": 54,
      "metadata": {
        "colab": {
          "background_save": true
        },
        "id": "H_5dTpUlZWtN"
      },
      "outputs": [],
      "source": [
        "ent_1_movie_1 = [x for _, x in sorted(zip(ent_1_movie_2, ent_1_movie_1))]\n",
        "ent_1_movie_2 = sorted(ent_1_movie_2)"
      ]
    },
    {
      "cell_type": "code",
      "execution_count": 57,
      "metadata": {},
      "outputs": [],
      "source": [
        "ent1_to_movie = [ent_1_movie_2, ent_1_movie_1]"
      ]
    },
    {
      "cell_type": "markdown",
      "metadata": {},
      "source": [
        "#### 2nd relation (8000 edges)"
      ]
    },
    {
      "cell_type": "code",
      "execution_count": 99,
      "metadata": {},
      "outputs": [],
      "source": [
        "ent_2_movie_1 = [i for i in range (8000)]\n",
        "ent_2_movie_2 = [i for i in range (num_samples)]\n",
        "ent_2_movie_2.extend([random.randint(0, num_samples-1) for i in range (8000-num_samples)])\n",
        "random.shuffle(ent_2_movie_2)\n"
      ]
    },
    {
      "cell_type": "code",
      "execution_count": 100,
      "metadata": {},
      "outputs": [
        {
          "data": {
            "text/plain": [
              "4277"
            ]
          },
          "execution_count": 100,
          "metadata": {},
          "output_type": "execute_result"
        }
      ],
      "source": [
        "max(ent_2_movie_2)"
      ]
    },
    {
      "cell_type": "code",
      "execution_count": 101,
      "metadata": {},
      "outputs": [
        {
          "data": {
            "text/plain": [
              "4278"
            ]
          },
          "execution_count": 101,
          "metadata": {},
          "output_type": "execute_result"
        }
      ],
      "source": [
        "len(set(ent_2_movie_2))"
      ]
    },
    {
      "cell_type": "code",
      "execution_count": 102,
      "metadata": {},
      "outputs": [],
      "source": [
        "ent2_to_movie = [ent_2_movie_1, ent_2_movie_2]"
      ]
    },
    {
      "cell_type": "code",
      "execution_count": 103,
      "metadata": {},
      "outputs": [],
      "source": [
        "movie_ent_2_1 = [x for _, x in sorted(zip(ent_2_movie_2, ent_2_movie_1))]\n",
        "movie_ent_2_2 = sorted(ent_2_movie_2)"
      ]
    },
    {
      "cell_type": "code",
      "execution_count": 104,
      "metadata": {},
      "outputs": [],
      "source": [
        "movie_to_ent2 = [movie_ent_2_2, movie_ent_2_1]"
      ]
    },
    {
      "cell_type": "code",
      "execution_count": 105,
      "metadata": {},
      "outputs": [
        {
          "name": "stdout",
          "output_type": "stream",
          "text": [
            "8000\n",
            "4278\n"
          ]
        }
      ],
      "source": [
        "print(len(set(movie_ent_2_1)))\n",
        "print(len(set(movie_ent_2_2)))"
      ]
    },
    {
      "cell_type": "markdown",
      "metadata": {},
      "source": [
        "### Create tensors"
      ]
    },
    {
      "cell_type": "code",
      "execution_count": 106,
      "metadata": {},
      "outputs": [
        {
          "data": {
            "text/plain": [
              "tensor([[   0,    1,    2,  ..., 4275, 4276, 4277],\n",
              "        [ 789,  680, 1757,  ..., 1781,  166,  399]])"
            ]
          },
          "execution_count": 106,
          "metadata": {},
          "output_type": "execute_result"
        }
      ],
      "source": [
        "data[('movie', 'to', 'director')].edge_index"
      ]
    },
    {
      "cell_type": "code",
      "execution_count": 109,
      "metadata": {},
      "outputs": [
        {
          "data": {
            "text/plain": [
              "torch.Size([2, 4278])"
            ]
          },
          "execution_count": 109,
          "metadata": {},
          "output_type": "execute_result"
        }
      ],
      "source": [
        "data[('movie', 'to', 'director')].edge_index.size()"
      ]
    },
    {
      "cell_type": "markdown",
      "metadata": {},
      "source": [
        "Lists to Numpy arrays"
      ]
    },
    {
      "cell_type": "code",
      "execution_count": 108,
      "metadata": {},
      "outputs": [
        {
          "name": "stdout",
          "output_type": "stream",
          "text": [
            "(2, 4278) (2, 4278) (2, 8000) (2, 8000)\n"
          ]
        }
      ],
      "source": [
        "movie_to_ent1 = np.array(movie_to_ent1)\n",
        "ent1_to_movie = np.array(ent1_to_movie)\n",
        "movie_to_ent2 = np.array(movie_to_ent2)\n",
        "ent2_to_movie = np.array(ent2_to_movie)\n",
        "\n",
        "print(movie_to_ent1.shape, ent1_to_movie.shape, movie_to_ent2.shape, ent2_to_movie.shape)"
      ]
    },
    {
      "cell_type": "markdown",
      "metadata": {},
      "source": [
        "Numpy arrays to Torch tensors"
      ]
    },
    {
      "cell_type": "code",
      "execution_count": 110,
      "metadata": {},
      "outputs": [
        {
          "name": "stdout",
          "output_type": "stream",
          "text": [
            "torch.Size([2, 4278]) torch.Size([2, 4278]) torch.Size([2, 8000]) torch.Size([2, 8000])\n"
          ]
        }
      ],
      "source": [
        "movie_to_ent1 = torch.from_numpy(movie_to_ent1)\n",
        "ent1_to_movie = torch.from_numpy(ent1_to_movie)\n",
        "movie_to_ent2 = torch.from_numpy(movie_to_ent2)\n",
        "ent2_to_movie = torch.from_numpy(ent2_to_movie)\n",
        "\n",
        "print(movie_to_ent1.size(), ent1_to_movie.size(), movie_to_ent2.size(), ent2_to_movie.size())"
      ]
    },
    {
      "cell_type": "markdown",
      "metadata": {},
      "source": [
        "### Create dict and store it"
      ]
    },
    {
      "cell_type": "code",
      "execution_count": 114,
      "metadata": {},
      "outputs": [],
      "source": [
        "dummies = {}\n",
        "dummies[('movie', 'to', 'ent1')] = movie_to_ent1\n",
        "dummies[('movie', 'to', 'ent2')] = movie_to_ent2\n",
        "dummies[('ent1', 'to', 'movie')] = ent1_to_movie\n",
        "dummies[('ent2', 'to', 'movie')] = ent2_to_movie"
      ]
    },
    {
      "cell_type": "code",
      "execution_count": 115,
      "metadata": {},
      "outputs": [
        {
          "data": {
            "text/plain": [
              "{('movie',\n",
              "  'to',\n",
              "  'ent1'): tensor([[   0,    1,    2,  ..., 4275, 4276, 4277],\n",
              "         [1946, 1556,  655,  ..., 1863, 1983, 1055]]),\n",
              " ('movie',\n",
              "  'to',\n",
              "  'ent2'): tensor([[   0,    0,    0,  ..., 4277, 4277, 4277],\n",
              "         [2061, 2417, 4312,  ..., 2463, 2487, 7735]]),\n",
              " ('ent1',\n",
              "  'to',\n",
              "  'movie'): tensor([[   0,    3,    5,  ..., 2999, 2999, 2999],\n",
              "         [2608, 3185, 1301,  ..., 1635, 2484, 3770]]),\n",
              " ('ent2',\n",
              "  'to',\n",
              "  'movie'): tensor([[   0,    1,    2,  ..., 7997, 7998, 7999],\n",
              "         [1330, 2427, 1360,  ...,  818, 1887, 3133]])}"
            ]
          },
          "execution_count": 115,
          "metadata": {},
          "output_type": "execute_result"
        }
      ],
      "source": [
        "dummies"
      ]
    },
    {
      "cell_type": "code",
      "execution_count": 117,
      "metadata": {},
      "outputs": [
        {
          "data": {
            "text/plain": [
              "'./data/dummies/imdb.pkl'"
            ]
          },
          "execution_count": 117,
          "metadata": {},
          "output_type": "execute_result"
        }
      ],
      "source": [
        "datapath = './data/dummies/'\n",
        "\n",
        "os.path.join(datapath, 'imdb.pkl')"
      ]
    },
    {
      "cell_type": "code",
      "execution_count": 119,
      "metadata": {},
      "outputs": [],
      "source": [
        "import pickle\n",
        "import os\n",
        "\n",
        "datapath = './data/dummies/'\n",
        "\n",
        "with open(os.path.join(datapath, 'imdb.pkl'), 'wb') as f:\n",
        "    pickle.dump(dummies, f, protocol=pickle.HIGHEST_PROTOCOL)"
      ]
    },
    {
      "cell_type": "markdown",
      "metadata": {
        "id": "xGHOP8xS__2F"
      },
      "source": [
        "## DBLP dataset"
      ]
    },
    {
      "cell_type": "markdown",
      "metadata": {
        "id": "1EAyumVmAD-a"
      },
      "source": [
        "### Import data"
      ]
    },
    {
      "cell_type": "code",
      "execution_count": 1,
      "metadata": {
        "id": "k8XOIcKVABCB"
      },
      "outputs": [],
      "source": [
        "from torch_geometric.datasets import DBLP\n",
        "\n",
        "dataset = DBLP(root='./data/dblp')"
      ]
    },
    {
      "cell_type": "code",
      "execution_count": 2,
      "metadata": {
        "id": "yXHTC6y0ACp2"
      },
      "outputs": [
        {
          "name": "stdout",
          "output_type": "stream",
          "text": [
            "Dataset: DBLP()\n",
            "Number of graphs: 1\n",
            "HeteroData(\n",
            "  \u001b[1mauthor\u001b[0m={\n",
            "    x=[4057, 334],\n",
            "    y=[4057],\n",
            "    train_mask=[4057],\n",
            "    val_mask=[4057],\n",
            "    test_mask=[4057]\n",
            "  },\n",
            "  \u001b[1mpaper\u001b[0m={ x=[14328, 4231] },\n",
            "  \u001b[1mterm\u001b[0m={ x=[7723, 50] },\n",
            "  \u001b[1mconference\u001b[0m={ num_nodes=20 },\n",
            "  \u001b[1m(author, to, paper)\u001b[0m={ edge_index=[2, 19645] },\n",
            "  \u001b[1m(paper, to, author)\u001b[0m={ edge_index=[2, 19645] },\n",
            "  \u001b[1m(paper, to, term)\u001b[0m={ edge_index=[2, 85810] },\n",
            "  \u001b[1m(paper, to, conference)\u001b[0m={ edge_index=[2, 14328] },\n",
            "  \u001b[1m(term, to, paper)\u001b[0m={ edge_index=[2, 85810] },\n",
            "  \u001b[1m(conference, to, paper)\u001b[0m={ edge_index=[2, 14328] }\n",
            ")\n",
            "Number of classes: 4\n",
            "Classes: tensor([0, 1, 2, 3])\n"
          ]
        }
      ],
      "source": [
        "print('Dataset:', dataset)\n",
        "\n",
        "print('Number of graphs:', len(dataset))\n",
        "\n",
        "data = dataset[0]\n",
        "print(data)\n",
        "\n",
        "num_classes = len(data['author'].y.unique())\n",
        "print('Number of classes:', num_classes)\n",
        "print('Classes:', data['author'].y.unique())"
      ]
    },
    {
      "cell_type": "markdown",
      "metadata": {
        "id": "lfmNwp9L3Kf-"
      },
      "source": [
        "### Author"
      ]
    },
    {
      "cell_type": "code",
      "execution_count": 3,
      "metadata": {
        "colab": {
          "base_uri": "https://localhost:8080/"
        },
        "id": "GSr4VZ4cKyZx",
        "outputId": "66825e39-7035-479c-f2b3-a68971fbc2d9"
      },
      "outputs": [
        {
          "data": {
            "text/plain": [
              "tensor([0., 1.])"
            ]
          },
          "execution_count": 3,
          "metadata": {},
          "output_type": "execute_result"
        }
      ],
      "source": [
        "data['author'].x.unique()"
      ]
    },
    {
      "cell_type": "code",
      "execution_count": 4,
      "metadata": {
        "colab": {
          "base_uri": "https://localhost:8080/"
        },
        "id": "btz4-XP1YTYU",
        "outputId": "fd02b45f-be97-4b48-8e46-45ef8b029055"
      },
      "outputs": [
        {
          "data": {
            "text/plain": [
              "torch.Size([2])"
            ]
          },
          "execution_count": 4,
          "metadata": {},
          "output_type": "execute_result"
        }
      ],
      "source": [
        "data['author'].x.unique().size()"
      ]
    },
    {
      "cell_type": "code",
      "execution_count": 5,
      "metadata": {
        "colab": {
          "base_uri": "https://localhost:8080/"
        },
        "id": "l9b_apReWPmR",
        "outputId": "7a4de506-2538-4d16-9292-4419006e3f5c"
      },
      "outputs": [
        {
          "data": {
            "text/plain": [
              "array([[0., 0., 1., ..., 0., 0., 0.],\n",
              "       [0., 0., 0., ..., 0., 0., 0.],\n",
              "       [0., 0., 0., ..., 0., 0., 0.],\n",
              "       ...,\n",
              "       [0., 0., 0., ..., 0., 0., 0.],\n",
              "       [0., 0., 0., ..., 0., 0., 0.],\n",
              "       [0., 0., 0., ..., 0., 0., 0.]], dtype=float32)"
            ]
          },
          "execution_count": 5,
          "metadata": {},
          "output_type": "execute_result"
        }
      ],
      "source": [
        "arr = data['author'].x.detach().numpy()\n",
        "arr"
      ]
    },
    {
      "cell_type": "code",
      "execution_count": 6,
      "metadata": {
        "colab": {
          "base_uri": "https://localhost:8080/"
        },
        "id": "qzwpCQgm1EhZ",
        "outputId": "50b0b8c8-f77c-4392-88f6-6933f8b15880"
      },
      "outputs": [
        {
          "data": {
            "text/plain": [
              "[0.0, 1.0, 2.0]"
            ]
          },
          "execution_count": 6,
          "metadata": {},
          "output_type": "execute_result"
        }
      ],
      "source": [
        "bins = data['author'].x.unique().tolist()\n",
        "bins.append(bins[-1]+1)\n",
        "bins"
      ]
    },
    {
      "cell_type": "code",
      "execution_count": 7,
      "metadata": {
        "colab": {
          "base_uri": "https://localhost:8080/"
        },
        "id": "riJMRk1wYm-F",
        "outputId": "3a90ed8d-5bf3-4dbd-f59b-596815dec37e"
      },
      "outputs": [
        {
          "data": {
            "text/plain": [
              "(array([1306228,   48810]), array([0., 1., 2.]))"
            ]
          },
          "execution_count": 7,
          "metadata": {},
          "output_type": "execute_result"
        }
      ],
      "source": [
        "import numpy as np\n",
        "\n",
        "hist_author = np.histogram(arr, bins=bins)\n",
        "hist_author"
      ]
    },
    {
      "cell_type": "code",
      "execution_count": 8,
      "metadata": {
        "colab": {
          "base_uri": "https://localhost:8080/",
          "height": 281
        },
        "id": "wgvyPeCkaBox",
        "outputId": "f7a061c0-1003-463f-b199-44561a20aa47"
      },
      "outputs": [
        {
          "data": {
            "image/png": "[encoded data removed]",
            "text/plain": [
              "<Figure size 432x288 with 1 Axes>"
            ]
          },
          "metadata": {
            "needs_background": "light"
          },
          "output_type": "display_data"
        }
      ],
      "source": [
        "import matplotlib.pyplot as plt\n",
        "\n",
        "_ = plt.bar(hist_author[1][:-1], hist_author[0], log=True)\n",
        "plt.title(\"Histogram author\")\n",
        "plt.show()"
      ]
    },
    {
      "cell_type": "markdown",
      "metadata": {
        "id": "1GQQhtY93S7W"
      },
      "source": [
        "### Paper"
      ]
    },
    {
      "cell_type": "code",
      "execution_count": 9,
      "metadata": {
        "colab": {
          "base_uri": "https://localhost:8080/"
        },
        "id": "Z1wwgMUtUwSZ",
        "outputId": "b2ae5c84-223e-4efd-f5eb-f54a7d0f17db"
      },
      "outputs": [
        {
          "data": {
            "text/plain": [
              "tensor([0., 1., 2., 3., 4., 5.])"
            ]
          },
          "execution_count": 9,
          "metadata": {},
          "output_type": "execute_result"
        }
      ],
      "source": [
        "data['paper'].x.unique()"
      ]
    },
    {
      "cell_type": "code",
      "execution_count": 10,
      "metadata": {
        "colab": {
          "base_uri": "https://localhost:8080/"
        },
        "id": "7WUaKnYi3n8J",
        "outputId": "199bc723-0218-45d4-de8d-5acc7000f6c3"
      },
      "outputs": [
        {
          "data": {
            "text/plain": [
              "array([[0., 0., 0., ..., 0., 0., 0.],\n",
              "       [0., 0., 0., ..., 0., 0., 0.],\n",
              "       [0., 0., 0., ..., 0., 0., 0.],\n",
              "       ...,\n",
              "       [0., 0., 0., ..., 0., 0., 0.],\n",
              "       [0., 0., 0., ..., 0., 0., 0.],\n",
              "       [0., 0., 0., ..., 0., 0., 0.]], dtype=float32)"
            ]
          },
          "execution_count": 10,
          "metadata": {},
          "output_type": "execute_result"
        }
      ],
      "source": [
        "arr = data['paper'].x.detach().numpy()\n",
        "arr"
      ]
    },
    {
      "cell_type": "code",
      "execution_count": 11,
      "metadata": {
        "colab": {
          "base_uri": "https://localhost:8080/"
        },
        "id": "isG2U74q3s7E",
        "outputId": "a9ed4ce3-43d6-4907-e6e3-fc80e65b0bd2"
      },
      "outputs": [
        {
          "data": {
            "text/plain": [
              "[0.0, 1.0, 2.0, 3.0, 4.0, 5.0, 6.0]"
            ]
          },
          "execution_count": 11,
          "metadata": {},
          "output_type": "execute_result"
        }
      ],
      "source": [
        "bins = data['paper'].x.unique().tolist()\n",
        "bins.append(bins[-1]+1)\n",
        "bins"
      ]
    },
    {
      "cell_type": "code",
      "execution_count": 12,
      "metadata": {
        "colab": {
          "base_uri": "https://localhost:8080/"
        },
        "id": "0Bx6kfei33Dp",
        "outputId": "5ca6355c-2203-4127-e48a-a1b94ad46658"
      },
      "outputs": [
        {
          "data": {
            "text/plain": [
              "(array([60526738,    94131,      871,       24,        3,        1]),\n",
              " array([0., 1., 2., 3., 4., 5., 6.]))"
            ]
          },
          "execution_count": 12,
          "metadata": {},
          "output_type": "execute_result"
        }
      ],
      "source": [
        "import numpy as np\n",
        "\n",
        "hist = np.histogram(arr, bins=bins)\n",
        "hist"
      ]
    },
    {
      "cell_type": "code",
      "execution_count": 13,
      "metadata": {
        "colab": {
          "base_uri": "https://localhost:8080/",
          "height": 281
        },
        "id": "thRY0OqI37DW",
        "outputId": "e7014108-9ebb-4d1c-8e06-8ac6fb38e223"
      },
      "outputs": [
        {
          "data": {
            "image/png": "[encoded data removed]",
            "text/plain": [
              "<Figure size 432x288 with 1 Axes>"
            ]
          },
          "metadata": {
            "needs_background": "light"
          },
          "output_type": "display_data"
        }
      ],
      "source": [
        "import matplotlib.pyplot as plt\n",
        "\n",
        "_ = plt.bar(hist[1][:-1], hist[0], log=True)\n",
        "plt.title(\"Histogram paper\")\n",
        "plt.show()"
      ]
    },
    {
      "cell_type": "markdown",
      "metadata": {
        "id": "9Q-xXvg73ZBg"
      },
      "source": [
        "### Term"
      ]
    },
    {
      "cell_type": "code",
      "execution_count": 14,
      "metadata": {
        "colab": {
          "base_uri": "https://localhost:8080/"
        },
        "id": "c07uQhrBU_RG",
        "outputId": "e57239cc-63e9-4b89-dce5-2a9e3b6b3e93"
      },
      "outputs": [
        {
          "data": {
            "text/plain": [
              "tensor([-3.1392, -2.9321, -2.9224,  ...,  4.0270,  4.0882,  4.1452])"
            ]
          },
          "execution_count": 14,
          "metadata": {},
          "output_type": "execute_result"
        }
      ],
      "source": [
        "data['term'].x.unique()"
      ]
    },
    {
      "cell_type": "code",
      "execution_count": 15,
      "metadata": {},
      "outputs": [
        {
          "data": {
            "text/plain": [
              "179995"
            ]
          },
          "execution_count": 15,
          "metadata": {},
          "output_type": "execute_result"
        }
      ],
      "source": [
        "len(data['term'].x.unique())"
      ]
    },
    {
      "cell_type": "code",
      "execution_count": 16,
      "metadata": {
        "colab": {
          "base_uri": "https://localhost:8080/"
        },
        "id": "AvF6CJlaWOtn",
        "outputId": "cf60436a-cb62-4e47-f99f-46fe5af6606d"
      },
      "outputs": [
        {
          "data": {
            "text/plain": [
              "array([[-0.69241 , -0.46592 ,  1.154   , ...,  0.91784 ,  0.19945 ,\n",
              "        -0.63601 ],\n",
              "       [ 1.2031  , -0.40028 ,  0.073991, ...,  1.3262  , -0.33245 ,\n",
              "         0.8198  ],\n",
              "       [ 0.37481 ,  0.57314 ,  0.48017 , ...,  1.1522  ,  0.60099 ,\n",
              "        -0.43094 ],\n",
              "       ...,\n",
              "       [ 0.418   ,  0.24968 , -0.41242 , ..., -0.18411 , -0.11514 ,\n",
              "        -0.78581 ],\n",
              "       [ 0.17239 , -0.27227 , -1.3368  , ..., -0.088101,  0.02252 ,\n",
              "         0.1166  ],\n",
              "       [ 0.21966 ,  0.025267,  0.12204 , ...,  0.087148, -0.53515 ,\n",
              "        -0.49489 ]], dtype=float32)"
            ]
          },
          "execution_count": 16,
          "metadata": {},
          "output_type": "execute_result"
        }
      ],
      "source": [
        "arr = data['term'].x.detach().numpy()\n",
        "arr"
      ]
    },
    {
      "cell_type": "code",
      "execution_count": 17,
      "metadata": {
        "colab": {
          "base_uri": "https://localhost:8080/"
        },
        "id": "rUD7qhEm4SL0",
        "outputId": "7a33144c-4ff8-4626-8ae8-00216eaa2625"
      },
      "outputs": [
        {
          "data": {
            "text/plain": [
              "(array([   506,  42063, 271113,  67252,   3266,   1950]),\n",
              " array([-3.1392   , -1.9251333, -0.7110667,  0.5029999,  1.7170665,\n",
              "         2.9311333,  4.1452   ], dtype=float32))"
            ]
          },
          "execution_count": 17,
          "metadata": {},
          "output_type": "execute_result"
        }
      ],
      "source": [
        "import numpy as np\n",
        "\n",
        "hist = np.histogram(arr, bins=6)\n",
        "hist"
      ]
    },
    {
      "cell_type": "code",
      "execution_count": 19,
      "metadata": {
        "colab": {
          "base_uri": "https://localhost:8080/",
          "height": 281
        },
        "id": "Lmonu1l44UEA",
        "outputId": "8fac3694-d63c-47a7-c359-342316ba7591"
      },
      "outputs": [
        {
          "data": {
            "image/png": "[encoded data removed]",
            "text/plain": [
              "<Figure size 432x288 with 1 Axes>"
            ]
          },
          "metadata": {
            "needs_background": "light"
          },
          "output_type": "display_data"
        }
      ],
      "source": [
        "import matplotlib.pyplot as plt\n",
        "\n",
        "_ = plt.bar(hist[1][:-1], hist[0], log=True)\n",
        "plt.title(\"Histogram term\")\n",
        "plt.show()"
      ]
    },
    {
      "cell_type": "markdown",
      "metadata": {},
      "source": [
        "### Create dummy entities"
      ]
    },
    {
      "cell_type": "markdown",
      "metadata": {},
      "source": [
        "We are going to use the same entities as IMDB dataset since the range of the values is similar."
      ]
    },
    {
      "cell_type": "markdown",
      "metadata": {},
      "source": [
        "### Create dummy relations"
      ]
    },
    {
      "cell_type": "code",
      "execution_count": null,
      "metadata": {},
      "outputs": [],
      "source": []
    },
    {
      "cell_type": "markdown",
      "metadata": {},
      "source": [
        "### Create tensors"
      ]
    },
    {
      "cell_type": "code",
      "execution_count": null,
      "metadata": {},
      "outputs": [
        {
          "data": {
            "text/plain": [
              "tensor([[   0,    1,    2,  ..., 4275, 4276, 4277],\n",
              "        [ 789,  680, 1757,  ..., 1781,  166,  399]])"
            ]
          },
          "metadata": {},
          "output_type": "display_data"
        }
      ],
      "source": [
        "data[('movie', 'to', 'director')].edge_index"
      ]
    },
    {
      "cell_type": "code",
      "execution_count": null,
      "metadata": {},
      "outputs": [
        {
          "data": {
            "text/plain": [
              "torch.Size([2, 4278])"
            ]
          },
          "metadata": {},
          "output_type": "display_data"
        }
      ],
      "source": [
        "data[('movie', 'to', 'director')].edge_index.size()"
      ]
    },
    {
      "cell_type": "markdown",
      "metadata": {},
      "source": [
        "Lists to Numpy arrays"
      ]
    },
    {
      "cell_type": "code",
      "execution_count": null,
      "metadata": {},
      "outputs": [
        {
          "name": "stdout",
          "output_type": "stream",
          "text": [
            "(2, 4278) (2, 4278) (2, 8000) (2, 8000)\n"
          ]
        }
      ],
      "source": [
        "movie_to_ent1 = np.array(movie_to_ent1)\n",
        "ent1_to_movie = np.array(ent1_to_movie)\n",
        "movie_to_ent2 = np.array(movie_to_ent2)\n",
        "ent2_to_movie = np.array(ent2_to_movie)\n",
        "\n",
        "print(movie_to_ent1.shape, ent1_to_movie.shape, movie_to_ent2.shape, ent2_to_movie.shape)"
      ]
    },
    {
      "cell_type": "markdown",
      "metadata": {},
      "source": [
        "Numpy arrays to Torch tensors"
      ]
    },
    {
      "cell_type": "code",
      "execution_count": null,
      "metadata": {},
      "outputs": [
        {
          "name": "stdout",
          "output_type": "stream",
          "text": [
            "torch.Size([2, 4278]) torch.Size([2, 4278]) torch.Size([2, 8000]) torch.Size([2, 8000])\n"
          ]
        }
      ],
      "source": [
        "movie_to_ent1 = torch.from_numpy(movie_to_ent1)\n",
        "ent1_to_movie = torch.from_numpy(ent1_to_movie)\n",
        "movie_to_ent2 = torch.from_numpy(movie_to_ent2)\n",
        "ent2_to_movie = torch.from_numpy(ent2_to_movie)\n",
        "\n",
        "print(movie_to_ent1.size(), ent1_to_movie.size(), movie_to_ent2.size(), ent2_to_movie.size())"
      ]
    },
    {
      "cell_type": "markdown",
      "metadata": {},
      "source": [
        "### Create dict and store it"
      ]
    },
    {
      "cell_type": "code",
      "execution_count": null,
      "metadata": {},
      "outputs": [],
      "source": [
        "dummies = {}\n",
        "dummies[('movie', 'to', 'ent1')] = movie_to_ent1\n",
        "dummies[('movie', 'to', 'ent2')] = movie_to_ent2\n",
        "dummies[('ent1', 'to', 'movie')] = ent1_to_movie\n",
        "dummies[('ent2', 'to', 'movie')] = ent2_to_movie"
      ]
    },
    {
      "cell_type": "code",
      "execution_count": null,
      "metadata": {},
      "outputs": [
        {
          "data": {
            "text/plain": [
              "{('movie',\n",
              "  'to',\n",
              "  'ent1'): tensor([[   0,    1,    2,  ..., 4275, 4276, 4277],\n",
              "         [1946, 1556,  655,  ..., 1863, 1983, 1055]]),\n",
              " ('movie',\n",
              "  'to',\n",
              "  'ent2'): tensor([[   0,    0,    0,  ..., 4277, 4277, 4277],\n",
              "         [2061, 2417, 4312,  ..., 2463, 2487, 7735]]),\n",
              " ('ent1',\n",
              "  'to',\n",
              "  'movie'): tensor([[   0,    3,    5,  ..., 2999, 2999, 2999],\n",
              "         [2608, 3185, 1301,  ..., 1635, 2484, 3770]]),\n",
              " ('ent2',\n",
              "  'to',\n",
              "  'movie'): tensor([[   0,    1,    2,  ..., 7997, 7998, 7999],\n",
              "         [1330, 2427, 1360,  ...,  818, 1887, 3133]])}"
            ]
          },
          "metadata": {},
          "output_type": "display_data"
        }
      ],
      "source": [
        "dummies"
      ]
    },
    {
      "cell_type": "code",
      "execution_count": null,
      "metadata": {},
      "outputs": [
        {
          "data": {
            "text/plain": [
              "'./data/dummies/imdb.pkl'"
            ]
          },
          "metadata": {},
          "output_type": "display_data"
        }
      ],
      "source": [
        "datapath = './data/dummies/'\n",
        "\n",
        "os.path.join(datapath, 'imdb.pkl')"
      ]
    },
    {
      "cell_type": "code",
      "execution_count": null,
      "metadata": {},
      "outputs": [],
      "source": [
        "import pickle\n",
        "import os\n",
        "\n",
        "datapath = './data/dummies/'\n",
        "\n",
        "with open(os.path.join(datapath, 'imdb.pkl'), 'wb') as f:\n",
        "    pickle.dump(dummies, f, protocol=pickle.HIGHEST_PROTOCOL)"
      ]
    },
    {
      "cell_type": "markdown",
      "metadata": {},
      "source": []
    }
  ],
  "metadata": {
    "colab": {
      "collapsed_sections": [
        "MWAK5TnXC-Ok",
        "xGHOP8xS__2F"
      ],
      "name": "noisy_datasets.ipynb",
      "provenance": []
    },
    "kernelspec": {
      "display_name": "Python 3",
      "name": "python3"
    },
    "language_info": {
      "codemirror_mode": {
        "name": "ipython",
        "version": 3
      },
      "file_extension": ".py",
      "mimetype": "text/x-python",
      "name": "python",
      "nbconvert_exporter": "python",
      "pygments_lexer": "ipython3",
      "version": "3.9.7"
    }
  },
  "nbformat": 4,
  "nbformat_minor": 0
}
